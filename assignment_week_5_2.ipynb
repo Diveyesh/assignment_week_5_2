{
  "nbformat": 4,
  "nbformat_minor": 0,
  "metadata": {
    "colab": {
      "provenance": []
    },
    "kernelspec": {
      "name": "python3",
      "display_name": "Python 3"
    },
    "language_info": {
      "name": "python"
    }
  },
  "cells": [
    {
      "cell_type": "markdown",
      "source": [
        "#Submitted by - Diveyesh"
      ],
      "metadata": {
        "id": "Wg47NsYATJYE"
      }
    },
    {
      "cell_type": "markdown",
      "source": [
        "#Question - 1"
      ],
      "metadata": {
        "id": "DSi35TF6TH2X"
      }
    },
    {
      "cell_type": "code",
      "execution_count": 1,
      "metadata": {
        "id": "4q_3tKjqAfZY"
      },
      "outputs": [],
      "source": [
        "#We use Exception class for creating custom Exceptions for following reasons:-\n",
        "#It ensures that custom exception is treated like any other exception, allowing it to be caught, handled, and propagated in a standardized manner.\n",
        "#It makes it easier for other developers to understand the purpose and behavior of custom exception.\n",
        "#It also allows them to differentiate between regular classes and exception classes, enhancing code readability and maintainability.\n",
        "#It allows to place custom exception in the appropriate position within this hierarchy,\n",
        "#making it easier to handle and manage specific types of exceptions."
      ]
    },
    {
      "cell_type": "markdown",
      "source": [
        "#Question - 2"
      ],
      "metadata": {
        "id": "ArvZhXVDeSBU"
      }
    },
    {
      "cell_type": "code",
      "source": [
        "def classtree(cls, indent=0):\n",
        "    print('.' * indent, cls.__name__)\n",
        "    for subcls in cls.__subclasses__():\n",
        "        classtree(subcls, indent + 3)\n",
        "\n",
        "classtree(BaseException)"
      ],
      "metadata": {
        "colab": {
          "base_uri": "https://localhost:8080/"
        },
        "id": "N6lCSTUVVh8m",
        "outputId": "d7b37e7c-1172-464c-eb13-a002f5435ca9"
      },
      "execution_count": 6,
      "outputs": [
        {
          "output_type": "stream",
          "name": "stdout",
          "text": [
            " BaseException\n",
            "... Exception\n",
            "...... TypeError\n",
            "......... MultipartConversionError\n",
            "......... FloatOperation\n",
            "......... UFuncTypeError\n",
            "............ UFuncTypeError\n",
            "............ UFuncTypeError\n",
            "............ UFuncTypeError\n",
            "............... UFuncTypeError\n",
            "............... UFuncTypeError\n",
            "......... ConversionError\n",
            "...... StopAsyncIteration\n",
            "...... StopIteration\n",
            "...... ImportError\n",
            "......... ModuleNotFoundError\n",
            "............ PackageNotFoundError\n",
            "......... ZipImportError\n",
            "...... OSError\n",
            "......... ConnectionError\n",
            "............ BrokenPipeError\n",
            "............ ConnectionAbortedError\n",
            "............ ConnectionRefusedError\n",
            "............ ConnectionResetError\n",
            "............... RemoteDisconnected\n",
            "......... BlockingIOError\n",
            "......... ChildProcessError\n",
            "......... FileExistsError\n",
            "......... FileNotFoundError\n",
            "............ ExecutableNotFoundError\n",
            "......... IsADirectoryError\n",
            "......... NotADirectoryError\n",
            "......... InterruptedError\n",
            "............ InterruptedSystemCall\n",
            "......... PermissionError\n",
            "......... ProcessLookupError\n",
            "......... TimeoutError\n",
            "......... UnsupportedOperation\n",
            "......... itimer_error\n",
            "......... Error\n",
            "............ SameFileError\n",
            "......... SpecialFileError\n",
            "......... ExecError\n",
            "......... ReadError\n",
            "......... herror\n",
            "......... gaierror\n",
            "......... SSLError\n",
            "............ SSLCertVerificationError\n",
            "............ SSLZeroReturnError\n",
            "............ SSLWantWriteError\n",
            "............ SSLWantReadError\n",
            "............ SSLSyscallError\n",
            "............ SSLEOFError\n",
            "......... URLError\n",
            "............ HTTPError\n",
            "............ ContentTooShortError\n",
            "......... BadGzipFile\n",
            "......... ProxyError\n",
            "............ GeneralProxyError\n",
            "............ ProxyConnectionError\n",
            "............ SOCKS5AuthError\n",
            "............ SOCKS5Error\n",
            "............ SOCKS4Error\n",
            "............ HTTPError\n",
            "......... UnidentifiedImageError\n",
            "...... EOFError\n",
            "......... IncompleteReadError\n",
            "...... RuntimeError\n",
            "......... RecursionError\n",
            "......... NotImplementedError\n",
            "............ StdinNotImplementedError\n",
            "............ ZMQVersionError\n",
            "......... _DeadlockError\n",
            "......... BrokenBarrierError\n",
            "......... BrokenExecutor\n",
            "............ BrokenThreadPool\n",
            "......... SendfileNotAvailableError\n",
            "......... RemovedCommandError\n",
            "......... PackageDiscoveryError\n",
            "......... TooHardError\n",
            "......... ExtractionError\n",
            "......... VariableError\n",
            "...... NameError\n",
            "......... UnboundLocalError\n",
            "...... AttributeError\n",
            "......... FrozenInstanceError\n",
            "...... SyntaxError\n",
            "......... IndentationError\n",
            "............ TabError\n",
            "......... ParseError\n",
            "...... LookupError\n",
            "......... IndexError\n",
            "............ AxisError\n",
            "............ OutOfBounds\n",
            "......... KeyError\n",
            "............ UnknownBackend\n",
            "............ NoSuchKernel\n",
            "......... CodecRegistryError\n",
            "...... ValueError\n",
            "......... UnicodeError\n",
            "............ UnicodeEncodeError\n",
            "............ UnicodeDecodeError\n",
            "............ UnicodeTranslateError\n",
            "......... UnsupportedOperation\n",
            "......... JSONDecodeError\n",
            "......... UnsupportedDigestmodError\n",
            "......... Error\n",
            "......... ClassNotFound\n",
            "......... SSLCertVerificationError\n",
            "......... ClipboardEmpty\n",
            "......... MessageDefect\n",
            "............ NoBoundaryInMultipartDefect\n",
            "............ StartBoundaryNotFoundDefect\n",
            "............ CloseBoundaryNotFoundDefect\n",
            "............ FirstHeaderLineIsContinuationDefect\n",
            "............ MisplacedEnvelopeHeaderDefect\n",
            "............ MissingHeaderBodySeparatorDefect\n",
            "............ MultipartInvariantViolationDefect\n",
            "............ InvalidMultipartContentTransferEncodingDefect\n",
            "............ UndecodableBytesDefect\n",
            "............ InvalidBase64PaddingDefect\n",
            "............ InvalidBase64CharactersDefect\n",
            "............ InvalidBase64LengthDefect\n",
            "............ HeaderDefect\n",
            "............... InvalidHeaderDefect\n",
            "............... HeaderMissingRequiredValue\n",
            "............... NonPrintableDefect\n",
            "............... ObsoleteHeaderDefect\n",
            "............... NonASCIILocalPartDefect\n",
            "............... InvalidDateDefect\n",
            "......... IllegalMonthError\n",
            "......... IllegalWeekdayError\n",
            "......... MacroToEdit\n",
            "......... ParserError\n",
            "......... UnequalIterablesError\n",
            "......... ELFInvalid\n",
            "......... InvalidVersion\n",
            "......... InvalidWheelFilename\n",
            "......... InvalidSdistFilename\n",
            "......... InvalidSpecifier\n",
            "......... InvalidMarker\n",
            "......... UndefinedComparison\n",
            "......... UndefinedEnvironmentName\n",
            "......... InvalidRequirement\n",
            "......... DisabledFunctionError\n",
            "......... AxisError\n",
            "......... InvalidVersion\n",
            "......... DefusedXmlException\n",
            "............ DTDForbidden\n",
            "............ EntitiesForbidden\n",
            "............ ExternalReferenceForbidden\n",
            "............ NotSupportedError\n",
            "......... NonIntersectingPathException\n",
            "......... InvalidFileException\n",
            "......... UnequalIterablesError\n",
            "......... InvalidVersion\n",
            "......... ELFInvalid\n",
            "......... InvalidWheelFilename\n",
            "......... InvalidSdistFilename\n",
            "......... InvalidSpecifier\n",
            "......... InvalidMarker\n",
            "......... UndefinedComparison\n",
            "......... UndefinedEnvironmentName\n",
            "......... InvalidRequirement\n",
            "............ RequirementParseError\n",
            "...... AssertionError\n",
            "...... ArithmeticError\n",
            "......... FloatingPointError\n",
            "......... OverflowError\n",
            "......... ZeroDivisionError\n",
            "............ DivisionByZero\n",
            "............ DivisionUndefined\n",
            "......... DecimalException\n",
            "............ Clamped\n",
            "............ Rounded\n",
            "............... Underflow\n",
            "............... Overflow\n",
            "............ Inexact\n",
            "............... Underflow\n",
            "............... Overflow\n",
            "............ Subnormal\n",
            "............... Underflow\n",
            "............ DivisionByZero\n",
            "............ FloatOperation\n",
            "............ InvalidOperation\n",
            "............... ConversionSyntax\n",
            "............... DivisionImpossible\n",
            "............... DivisionUndefined\n",
            "............... InvalidContext\n",
            "...... SystemError\n",
            "......... CodecRegistryError\n",
            "...... ReferenceError\n",
            "...... MemoryError\n",
            "......... MemoryError\n",
            "...... BufferError\n",
            "...... Warning\n",
            "......... UserWarning\n",
            "............ GetPassWarning\n",
            "............ FormatterWarning\n",
            "............ SetuptoolsWarning\n",
            "............... InformationOnly\n",
            "............... SetuptoolsDeprecationWarning\n",
            ".................. _AmbiguousMarker\n",
            ".................. _DeprecatedConfig\n",
            ".................. _WouldIgnoreField\n",
            ".................. DistDeprecationWarning\n",
            "............... _BetaConfiguration\n",
            "............... _InvalidFile\n",
            "............ VisibleDeprecationWarning\n",
            "............ RankWarning\n",
            "............ ConversionWarning\n",
            "............ RankWarning\n",
            "......... EncodingWarning\n",
            "......... DeprecationWarning\n",
            "............ ProvisionalWarning\n",
            "............ ModuleDeprecationWarning\n",
            "............ MatplotlibDeprecationWarning\n",
            "......... PendingDeprecationWarning\n",
            "......... SyntaxWarning\n",
            "......... RuntimeWarning\n",
            "............ ProactorSelectorThreadWarning\n",
            "............ UnknownTimezoneWarning\n",
            "............ ComplexWarning\n",
            "............ DecompressionBombWarning\n",
            "............ PEP440Warning\n",
            "......... FutureWarning\n",
            "............ ProvisionalCompleterWarning\n",
            "............ MaskedArrayFutureWarning\n",
            "......... ImportWarning\n",
            "......... UnicodeWarning\n",
            "......... BytesWarning\n",
            "......... ResourceWarning\n",
            "......... DeprecatedTzFormatWarning\n",
            "......... MathTextWarning\n",
            "......... PkgResourcesDeprecationWarning\n",
            "...... _OptionError\n",
            "...... error\n",
            "...... Verbose\n",
            "...... Error\n",
            "...... _Error\n",
            "...... SubprocessError\n",
            "......... CalledProcessError\n",
            "......... TimeoutExpired\n",
            "...... Error\n",
            "...... TokenError\n",
            "...... StopTokenizing\n",
            "...... error\n",
            "...... LZMAError\n",
            "...... RegistryError\n",
            "...... _GiveupOnFastCopy\n",
            "...... ClassFoundException\n",
            "...... EndOfBlock\n",
            "...... TraitError\n",
            "...... _GiveupOnSendfile\n",
            "...... error\n",
            "...... PickleError\n",
            "......... PicklingError\n",
            "......... UnpicklingError\n",
            "...... _Stop\n",
            "...... Empty\n",
            "...... Full\n",
            "...... ArgumentError\n",
            "...... ArgumentTypeError\n",
            "...... ConfigError\n",
            "......... ConfigLoaderError\n",
            "............ ArgumentError\n",
            "......... ConfigFileNotFound\n",
            "...... ConfigurableError\n",
            "......... MultipleInstanceError\n",
            "...... ApplicationError\n",
            "...... ErrorDuringImport\n",
            "...... BdbQuit\n",
            "...... Restart\n",
            "...... ExceptionPexpect\n",
            "......... EOF\n",
            "......... TIMEOUT\n",
            "...... error\n",
            "...... PtyProcessError\n",
            "...... FindCmdError\n",
            "...... HomeDirError\n",
            "...... ProfileDirError\n",
            "...... IPythonCoreError\n",
            "......... TryNext\n",
            "......... UsageError\n",
            "......... StdinNotImplementedError\n",
            "...... InputRejected\n",
            "...... GetoptError\n",
            "...... Incomplete\n",
            "...... OptionError\n",
            "...... ErrorToken\n",
            "...... PrefilterError\n",
            "...... AliasError\n",
            "......... InvalidAliasError\n",
            "...... Error\n",
            "......... InterfaceError\n",
            "......... DatabaseError\n",
            "............ InternalError\n",
            "............ OperationalError\n",
            "............ ProgrammingError\n",
            "............ IntegrityError\n",
            "............ DataError\n",
            "............ NotSupportedError\n",
            "...... Warning\n",
            "...... Error\n",
            "......... CancelledError\n",
            "......... TimeoutError\n",
            "......... InvalidStateError\n",
            "...... TimeoutError\n",
            "...... InvalidStateError\n",
            "...... LimitOverrunError\n",
            "...... QueueEmpty\n",
            "...... QueueFull\n",
            "...... SpaceInInput\n",
            "...... DOMException\n",
            "......... IndexSizeErr\n",
            "......... DomstringSizeErr\n",
            "......... HierarchyRequestErr\n",
            "......... WrongDocumentErr\n",
            "......... InvalidCharacterErr\n",
            "......... NoDataAllowedErr\n",
            "......... NoModificationAllowedErr\n",
            "......... NotFoundErr\n",
            "......... NotSupportedErr\n",
            "......... InuseAttributeErr\n",
            "......... InvalidStateErr\n",
            "......... SyntaxErr\n",
            "......... InvalidModificationErr\n",
            "......... NamespaceErr\n",
            "......... InvalidAccessErr\n",
            "......... ValidationErr\n",
            "...... ValidationError\n",
            "...... EditReadOnlyBuffer\n",
            "...... _Retry\n",
            "...... InvalidLayoutError\n",
            "...... HeightIsUnknownError\n",
            "...... MessageError\n",
            "......... MessageParseError\n",
            "............ HeaderParseError\n",
            "............... _InvalidEwError\n",
            "............ BoundaryError\n",
            "......... MultipartConversionError\n",
            "......... CharsetError\n",
            "...... Error\n",
            "...... HTTPException\n",
            "......... NotConnected\n",
            "......... InvalidURL\n",
            "......... UnknownProtocol\n",
            "......... UnknownTransferEncoding\n",
            "......... UnimplementedFileMode\n",
            "......... IncompleteRead\n",
            "......... ImproperConnectionState\n",
            "............ CannotSendRequest\n",
            "............ CannotSendHeader\n",
            "............ ResponseNotReady\n",
            "......... BadStatusLine\n",
            "............ RemoteDisconnected\n",
            "......... LineTooLong\n",
            "...... InteractivelyDefined\n",
            "...... KillEmbedded\n",
            "...... ArgumentError\n",
            "...... ZMQBaseError\n",
            "......... ZMQError\n",
            "............ ContextTerminated\n",
            "............ Again\n",
            "............ InterruptedSystemCall\n",
            "......... ZMQBindError\n",
            "......... NotDone\n",
            "...... NoIPAddresses\n",
            "...... Error\n",
            "......... NoSectionError\n",
            "......... DuplicateSectionError\n",
            "......... DuplicateOptionError\n",
            "......... NoOptionError\n",
            "......... InterpolationError\n",
            "............ InterpolationMissingOptionError\n",
            "............ InterpolationSyntaxError\n",
            "............ InterpolationDepthError\n",
            "......... ParsingError\n",
            "............ MissingSectionHeaderError\n",
            "...... InvalidPortNumber\n",
            "...... DuplicateKernelError\n",
            "...... error\n",
            "...... ReturnValueIgnoredError\n",
            "...... KeyReuseError\n",
            "...... UnknownKeyError\n",
            "...... LeakedCallbackError\n",
            "...... BadYieldError\n",
            "...... ReturnValueIgnoredError\n",
            "...... Return\n",
            "...... QueueEmpty\n",
            "...... QueueFull\n",
            "...... DistutilsError\n",
            "......... DistutilsModuleError\n",
            "......... DistutilsClassError\n",
            "......... DistutilsGetoptError\n",
            "......... DistutilsArgError\n",
            "......... DistutilsFileError\n",
            "......... DistutilsOptionError\n",
            "......... DistutilsSetupError\n",
            "......... DistutilsPlatformError\n",
            "......... DistutilsExecError\n",
            "......... DistutilsInternalError\n",
            "......... DistutilsTemplateError\n",
            "......... DistutilsByteCompileError\n",
            "......... RemovedCommandError\n",
            "......... PackageDiscoveryError\n",
            "...... CCompilerError\n",
            "......... PreprocessError\n",
            "......... CompileError\n",
            "......... LibError\n",
            "......... LinkError\n",
            "......... UnknownFileError\n",
            "...... BadZipFile\n",
            "...... LargeZipFile\n",
            "...... Error\n",
            "...... ParserSyntaxError\n",
            "...... LinAlgError\n",
            "...... ConverterError\n",
            "......... ConverterLockError\n",
            "...... MAError\n",
            "......... MaskError\n",
            "...... Error\n",
            "......... AuthorizationError\n",
            "......... RuntimeManagementError\n",
            "......... MessageError\n",
            "...... WidgetException\n",
            "...... JsException\n",
            "...... FormattedTracebackError\n",
            "...... Error\n",
            "......... NoSuchProcess\n",
            "............ ZombieProcess\n",
            "......... AccessDenied\n",
            "......... TimeoutExpired\n",
            "...... _Ipv6UnsupportedError\n",
            "...... ParseBaseException\n",
            "......... ParseException\n",
            "......... ParseFatalException\n",
            "............ ParseSyntaxException\n",
            "...... RecursiveGrammarException\n",
            "...... HttpLib2Error\n",
            "......... HttpLib2ErrorWithResponse\n",
            "............ RedirectMissingLocation\n",
            "............ RedirectLimit\n",
            "............ FailedToDecompressContent\n",
            "............ UnimplementedDigestAuthOptionError\n",
            "............ UnimplementedHmacDigestAuthOptionError\n",
            "......... MalformedHeader\n",
            "......... RelativeURIError\n",
            "......... ServerNotFoundError\n",
            "......... ProxiesUnavailableError\n",
            "...... ExpatError\n",
            "...... DecompressionBombError\n",
            "...... FFIError\n",
            "...... CDefError\n",
            "...... VerificationError\n",
            "...... VerificationMissing\n",
            "...... PkgConfigError\n",
            "...... DuplicateConstraint\n",
            "...... UnsatisfiableConstraint\n",
            "...... UnknownConstraint\n",
            "...... DuplicateEditVariable\n",
            "...... UnknownEditVariable\n",
            "...... BadRequiredStrength\n",
            "...... NonGuiException\n",
            "...... InvalidIndexError\n",
            "...... TerminateTrajectory\n",
            "...... NoFreePortFoundError\n",
            "...... DebuggerInitializationError\n",
            "...... Error\n",
            "......... ProtocolError\n",
            "......... ResponseError\n",
            "......... Fault\n",
            "...... ParserSyntaxError\n",
            "...... ResolutionError\n",
            "......... VersionConflict\n",
            "............ ContextualVersionConflict\n",
            "......... DistributionNotFound\n",
            "......... UnknownExtra\n",
            "...... _Error\n",
            "...... UnableToResolveVariableException\n",
            "...... InvalidTypeInArgsException\n",
            "... GeneratorExit\n",
            "... SystemExit\n",
            "... KeyboardInterrupt\n",
            "... CancelledError\n",
            "... AbortThread\n",
            "... AbortThread\n"
          ]
        }
      ]
    },
    {
      "cell_type": "markdown",
      "source": [
        "#Question -3"
      ],
      "metadata": {
        "id": "KhXelz4CeWt8"
      }
    },
    {
      "cell_type": "code",
      "source": [
        "def class_tree(cls,indent=0):\n",
        "  print('.'*indent,cls.__name__)\n",
        "  for subcls in cls.__subclasses__():\n",
        "    class_tree(subcls,indent+3)\n",
        "\n",
        "class_tree(ArithmeticError)"
      ],
      "metadata": {
        "colab": {
          "base_uri": "https://localhost:8080/"
        },
        "id": "E8wXTj6kVh6U",
        "outputId": "b0e7cecd-46e5-4db2-b693-bbc6fc486883"
      },
      "execution_count": 7,
      "outputs": [
        {
          "output_type": "stream",
          "name": "stdout",
          "text": [
            " ArithmeticError\n",
            "... FloatingPointError\n",
            "... OverflowError\n",
            "... ZeroDivisionError\n",
            "...... DivisionByZero\n",
            "...... DivisionUndefined\n",
            "... DecimalException\n",
            "...... Clamped\n",
            "...... Rounded\n",
            "......... Underflow\n",
            "......... Overflow\n",
            "...... Inexact\n",
            "......... Underflow\n",
            "......... Overflow\n",
            "...... Subnormal\n",
            "......... Underflow\n",
            "...... DivisionByZero\n",
            "...... FloatOperation\n",
            "...... InvalidOperation\n",
            "......... ConversionSyntax\n",
            "......... DivisionImpossible\n",
            "......... DivisionUndefined\n",
            "......... InvalidContext\n"
          ]
        }
      ]
    },
    {
      "cell_type": "code",
      "source": [
        "#ZeroDivisionError\n",
        "try:\n",
        "  a = 10\n",
        "  b = 0\n",
        "  a/b\n",
        "except ZeroDivisionError as e:\n",
        "  print(e)"
      ],
      "metadata": {
        "colab": {
          "base_uri": "https://localhost:8080/"
        },
        "id": "E1n64GBBVh3l",
        "outputId": "8eae2382-447f-45ab-e54a-25b20cacf331"
      },
      "execution_count": 13,
      "outputs": [
        {
          "output_type": "stream",
          "name": "stdout",
          "text": [
            "division by zero\n"
          ]
        }
      ]
    },
    {
      "cell_type": "code",
      "source": [
        "#OverflowError\n",
        "j = 5.0\n",
        "try:\n",
        "  for i in range(1, 1000):\n",
        "      j = j**i\n",
        "except OverflowError as e:\n",
        "    print(e)"
      ],
      "metadata": {
        "colab": {
          "base_uri": "https://localhost:8080/"
        },
        "id": "OVrT3oT-VhkD",
        "outputId": "3f67554b-e706-4f0e-e73a-5eef219004b8"
      },
      "execution_count": 65,
      "outputs": [
        {
          "output_type": "stream",
          "name": "stdout",
          "text": [
            "(34, 'Numerical result out of range')\n"
          ]
        }
      ]
    },
    {
      "cell_type": "markdown",
      "source": [
        "#Question - 4"
      ],
      "metadata": {
        "id": "9DW1ltBkAq0E"
      }
    },
    {
      "cell_type": "code",
      "source": [
        "#The LookupError exception in Python forms the base class for all exceptions that are raised when\n",
        "# an index or a key is not found for a sequence or dictionary respectively."
      ],
      "metadata": {
        "id": "yxang2p8VhhZ"
      },
      "execution_count": null,
      "outputs": []
    },
    {
      "cell_type": "code",
      "source": [
        "#Index Error\n",
        "list_1 = [\"ram\",\"shyam\",\"geeta\"]\n",
        "name = list_1[3]"
      ],
      "metadata": {
        "colab": {
          "base_uri": "https://localhost:8080/",
          "height": 206
        },
        "id": "p6AAiJWBVhe8",
        "outputId": "17d68645-be77-4603-ec8a-5b2be5c98de6"
      },
      "execution_count": 67,
      "outputs": [
        {
          "output_type": "error",
          "ename": "IndexError",
          "evalue": "ignored",
          "traceback": [
            "\u001b[0;31m---------------------------------------------------------------------------\u001b[0m",
            "\u001b[0;31mIndexError\u001b[0m                                Traceback (most recent call last)",
            "\u001b[0;32m<ipython-input-67-2079e00328c4>\u001b[0m in \u001b[0;36m<cell line: 3>\u001b[0;34m()\u001b[0m\n\u001b[1;32m      1\u001b[0m \u001b[0;31m#Key Error\u001b[0m\u001b[0;34m\u001b[0m\u001b[0;34m\u001b[0m\u001b[0m\n\u001b[1;32m      2\u001b[0m \u001b[0mlist_1\u001b[0m \u001b[0;34m=\u001b[0m \u001b[0;34m[\u001b[0m\u001b[0;34m\"ram\"\u001b[0m\u001b[0;34m,\u001b[0m\u001b[0;34m\"shyam\"\u001b[0m\u001b[0;34m,\u001b[0m\u001b[0;34m\"geeta\"\u001b[0m\u001b[0;34m]\u001b[0m\u001b[0;34m\u001b[0m\u001b[0;34m\u001b[0m\u001b[0m\n\u001b[0;32m----> 3\u001b[0;31m \u001b[0mname\u001b[0m \u001b[0;34m=\u001b[0m \u001b[0mlist_1\u001b[0m\u001b[0;34m[\u001b[0m\u001b[0;36m3\u001b[0m\u001b[0;34m]\u001b[0m\u001b[0;34m\u001b[0m\u001b[0;34m\u001b[0m\u001b[0m\n\u001b[0m",
            "\u001b[0;31mIndexError\u001b[0m: list index out of range"
          ]
        }
      ]
    },
    {
      "cell_type": "code",
      "source": [
        "#Handling Index error\n",
        "try:\n",
        "  list_1 = [\"ram\",\"shyam\",\"geeta\"]\n",
        "  name = list_1[3]\n",
        "except IndexError as e:\n",
        "  print(e)\n",
        "\n"
      ],
      "metadata": {
        "colab": {
          "base_uri": "https://localhost:8080/"
        },
        "id": "AmDMbWNkVhcU",
        "outputId": "0723f694-d85d-4544-b8f7-146d3a264bc8"
      },
      "execution_count": 69,
      "outputs": [
        {
          "output_type": "stream",
          "name": "stdout",
          "text": [
            "list index out of range\n"
          ]
        }
      ]
    },
    {
      "cell_type": "code",
      "source": [
        "#Key Error\n",
        "\n",
        "dict_1 = {\"name\" : \"suresh\",\"last_name\" : \"Singh\"}\n",
        "dict_1[\"age\"]\n"
      ],
      "metadata": {
        "colab": {
          "base_uri": "https://localhost:8080/",
          "height": 206
        },
        "id": "hdDo2b3pVhZs",
        "outputId": "ec2f62fc-a043-44c4-b1f5-e5bca7641999"
      },
      "execution_count": 72,
      "outputs": [
        {
          "output_type": "error",
          "ename": "KeyError",
          "evalue": "ignored",
          "traceback": [
            "\u001b[0;31m---------------------------------------------------------------------------\u001b[0m",
            "\u001b[0;31mKeyError\u001b[0m                                  Traceback (most recent call last)",
            "\u001b[0;32m<ipython-input-72-699c38c5a39b>\u001b[0m in \u001b[0;36m<cell line: 4>\u001b[0;34m()\u001b[0m\n\u001b[1;32m      2\u001b[0m \u001b[0;34m\u001b[0m\u001b[0m\n\u001b[1;32m      3\u001b[0m \u001b[0mdict_1\u001b[0m \u001b[0;34m=\u001b[0m \u001b[0;34m{\u001b[0m\u001b[0;34m\"name\"\u001b[0m \u001b[0;34m:\u001b[0m \u001b[0;34m\"suresh\"\u001b[0m\u001b[0;34m,\u001b[0m\u001b[0;34m\"last_name\"\u001b[0m \u001b[0;34m:\u001b[0m \u001b[0;34m\"Singh\"\u001b[0m\u001b[0;34m}\u001b[0m\u001b[0;34m\u001b[0m\u001b[0;34m\u001b[0m\u001b[0m\n\u001b[0;32m----> 4\u001b[0;31m \u001b[0mdict_1\u001b[0m\u001b[0;34m[\u001b[0m\u001b[0;34m\"age\"\u001b[0m\u001b[0;34m]\u001b[0m\u001b[0;34m\u001b[0m\u001b[0;34m\u001b[0m\u001b[0m\n\u001b[0m",
            "\u001b[0;31mKeyError\u001b[0m: 'age'"
          ]
        }
      ]
    },
    {
      "cell_type": "code",
      "source": [
        "#Handling key error\n",
        "\n",
        "try:\n",
        "  dict_1 = {\"name\" : \"suresh\",\"last_name\" : \"Singh\"}\n",
        "  dict_1[\"age\"]\n",
        "except KeyError as e:\n",
        "  print(\"key not present\",e)\n"
      ],
      "metadata": {
        "colab": {
          "base_uri": "https://localhost:8080/"
        },
        "id": "92MRpPITVhXE",
        "outputId": "a5819a1c-64c2-47e6-9e38-bfe1e80cb15e"
      },
      "execution_count": 75,
      "outputs": [
        {
          "output_type": "stream",
          "name": "stdout",
          "text": [
            "key not present 'age'\n"
          ]
        }
      ]
    },
    {
      "cell_type": "markdown",
      "source": [
        "#Question - 5\n"
      ],
      "metadata": {
        "id": "FgaNCAVYFSF-"
      }
    },
    {
      "cell_type": "code",
      "source": [
        "#ImportError is a base class for all import-related exceptions.\n",
        "#It is raised when an import statement fails to find and load the requested module or package."
      ],
      "metadata": {
        "id": "zquWfzfzVhUk"
      },
      "execution_count": null,
      "outputs": []
    },
    {
      "cell_type": "code",
      "source": [
        "#ModuleNotFoundError is a subclass of ImportError.It specifically indicates that the requested module or package could not be found."
      ],
      "metadata": {
        "id": "sMg-AtFsVhSA"
      },
      "execution_count": null,
      "outputs": []
    },
    {
      "cell_type": "code",
      "source": [
        "#example of module error\n",
        "\n",
        "import numpys as np\n",
        "\n",
        "\n"
      ],
      "metadata": {
        "colab": {
          "base_uri": "https://localhost:8080/",
          "height": 386
        },
        "id": "VlvUg06IVhPP",
        "outputId": "ea2e8b49-020d-4815-c174-175787a36f9b"
      },
      "execution_count": 76,
      "outputs": [
        {
          "output_type": "error",
          "ename": "ModuleNotFoundError",
          "evalue": "ignored",
          "traceback": [
            "\u001b[0;31m---------------------------------------------------------------------------\u001b[0m",
            "\u001b[0;31mModuleNotFoundError\u001b[0m                       Traceback (most recent call last)",
            "\u001b[0;32m<ipython-input-76-cf2d754759f0>\u001b[0m in \u001b[0;36m<cell line: 3>\u001b[0;34m()\u001b[0m\n\u001b[1;32m      1\u001b[0m \u001b[0;31m#example of module error\u001b[0m\u001b[0;34m\u001b[0m\u001b[0;34m\u001b[0m\u001b[0m\n\u001b[1;32m      2\u001b[0m \u001b[0;34m\u001b[0m\u001b[0m\n\u001b[0;32m----> 3\u001b[0;31m \u001b[0;32mimport\u001b[0m \u001b[0mnumpys\u001b[0m \u001b[0;32mas\u001b[0m \u001b[0mnp\u001b[0m\u001b[0;34m\u001b[0m\u001b[0;34m\u001b[0m\u001b[0m\n\u001b[0m\u001b[1;32m      4\u001b[0m \u001b[0;34m\u001b[0m\u001b[0m\n\u001b[1;32m      5\u001b[0m \u001b[0;34m\u001b[0m\u001b[0m\n",
            "\u001b[0;31mModuleNotFoundError\u001b[0m: No module named 'numpys'",
            "",
            "\u001b[0;31m---------------------------------------------------------------------------\u001b[0;32m\nNOTE: If your import is failing due to a missing package, you can\nmanually install dependencies using either !pip or !apt.\n\nTo view examples of installing some common dependencies, click the\n\"Open Examples\" button below.\n\u001b[0;31m---------------------------------------------------------------------------\u001b[0m\n"
          ],
          "errorDetails": {
            "actions": [
              {
                "action": "open_url",
                "actionText": "Open Examples",
                "url": "/notebooks/snippets/importing_libraries.ipynb"
              }
            ]
          }
        }
      ]
    },
    {
      "cell_type": "code",
      "source": [
        "#handling the exception\n",
        "try:\n",
        "  import numpys as np\n",
        "except ModuleNotFoundError as e:\n",
        "  print(e)\n",
        "\n",
        "\n"
      ],
      "metadata": {
        "colab": {
          "base_uri": "https://localhost:8080/"
        },
        "id": "8lgNb0HeVhM_",
        "outputId": "e1013c65-fd4d-41f6-c466-11b699583cea"
      },
      "execution_count": 77,
      "outputs": [
        {
          "output_type": "stream",
          "name": "stdout",
          "text": [
            "No module named 'numpys'\n"
          ]
        }
      ]
    },
    {
      "cell_type": "markdown",
      "source": [
        "#Question - 6"
      ],
      "metadata": {
        "id": "0GwSDJEMGFac"
      }
    },
    {
      "cell_type": "code",
      "source": [
        "#the best practices of exception handling in python are as follows:\n",
        "#use always a specific exception\n",
        "#print always a valid msg\n",
        "#always try to log\n",
        "#always avoid to write a multiple exception handling\n",
        "#prepare a proper documnentation\n",
        "#cleanup all the resources\n",
        "\n",
        ""
      ],
      "metadata": {
        "id": "OaeJnwSkVhKa"
      },
      "execution_count": 79,
      "outputs": []
    },
    {
      "cell_type": "code",
      "source": [],
      "metadata": {
        "id": "-HzhToUYVhHj"
      },
      "execution_count": null,
      "outputs": []
    },
    {
      "cell_type": "code",
      "source": [],
      "metadata": {
        "id": "MOPd_lt3VhCz"
      },
      "execution_count": null,
      "outputs": []
    },
    {
      "cell_type": "code",
      "source": [],
      "metadata": {
        "id": "au5OpDPqVg_X"
      },
      "execution_count": null,
      "outputs": []
    }
  ]
}